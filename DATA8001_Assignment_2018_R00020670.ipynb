{
 "cells": [
  {
   "cell_type": "markdown",
   "metadata": {},
   "source": [
    "# Import Libraries\n",
    "**NOTE:** Rename this file to your CIT student number - i.e., replace XXXXXX "
   ]
  },
  {
   "cell_type": "code",
   "execution_count": 3,
   "metadata": {
    "collapsed": true
   },
   "outputs": [],
   "source": [
    "import pandas as pd\n",
    "import mysql.connector\n",
    "import numpy as np\n",
    "from sqlalchemy import create_engine\n",
    "\n",
    "%matplotlib inline\n",
    "\n",
    "import matplotlib.pyplot as plt\n",
    "import math\n",
    "\n",
    "from sklearn.model_selection import train_test_split\n",
    "from sklearn.linear_model import LogisticRegression\n",
    "from sklearn.metrics import mean_squared_error, r2_score, accuracy_score"
   ]
  },
  {
   "cell_type": "code",
   "execution_count": 4,
   "metadata": {
    "collapsed": true
   },
   "outputs": [],
   "source": [
    "# master foldername\n",
    "folder = 'H:\\\\Data8001\\\\Labs\\\\Datasets\\\\'"
   ]
  },
  {
   "cell_type": "markdown",
   "metadata": {},
   "source": [
    "# Load Data & Create Master Dataset\n",
    "1. Load sql data from CIT mysql database: **table name = data8001_assignment_2018**\n",
    "2. Load mongo data from json file\n",
    "3. Load Excel data from csv file\n",
    "4. Align all column types & rename column headers to match sql data (see report index)\n",
    "5. Create master dataframe joining sql, mongo & Excel data."
   ]
  },
  {
   "cell_type": "code",
   "execution_count": 5,
   "metadata": {
    "collapsed": true
   },
   "outputs": [],
   "source": [
    "# first install the connector, open command prompt\n",
    "# if using the default CIT Anaconda package\n",
    "# conda install -y mysql-connector-python"
   ]
  },
  {
   "cell_type": "code",
   "execution_count": 6,
   "metadata": {
    "collapsed": true
   },
   "outputs": [],
   "source": [
    "mysql_host = 'com-db-02.student-cit.local'\n",
    "mysql_user = 'python_db_user'\n",
    "mysql_pwd = 'PythonDB'\n",
    "mysql_db = 'data8001_2018'\n",
    "\n",
    "# Create the sqlalchemy connection string\n",
    "engine_string = 'mysql+mysqlconnector://%s:%s@%s/%s' % (mysql_user, mysql_pwd, mysql_host, mysql_db)"
   ]
  },
  {
   "cell_type": "code",
   "execution_count": 7,
   "metadata": {
    "collapsed": true
   },
   "outputs": [],
   "source": [
    "# Create the DB connection engine & connection\n",
    "engine = create_engine(engine_string, echo=False)\n",
    "conn = engine.raw_connection()\n",
    "\n",
    "# This is a workaround to get data into SFrame via pandas data frame which is suppored by sqlalchemy\n",
    "df_sql = pd.read_sql('SELECT * FROM data8001_assignment_2018', conn)\n",
    "\n",
    "# Always close your connections\n",
    "conn.close()"
   ]
  },
  {
   "cell_type": "code",
   "execution_count": 8,
   "metadata": {},
   "outputs": [
    {
     "data": {
      "text/html": [
       "<div>\n",
       "<style>\n",
       "    .dataframe thead tr:only-child th {\n",
       "        text-align: right;\n",
       "    }\n",
       "\n",
       "    .dataframe thead th {\n",
       "        text-align: left;\n",
       "    }\n",
       "\n",
       "    .dataframe tbody tr th {\n",
       "        vertical-align: top;\n",
       "    }\n",
       "</style>\n",
       "<table border=\"1\" class=\"dataframe\">\n",
       "  <thead>\n",
       "    <tr style=\"text-align: right;\">\n",
       "      <th></th>\n",
       "      <th>Id</th>\n",
       "      <th>Surname</th>\n",
       "      <th>Credit Score</th>\n",
       "      <th>Location</th>\n",
       "      <th>Gender</th>\n",
       "      <th>Age</th>\n",
       "      <th>Years in Employment</th>\n",
       "      <th>Current Balance</th>\n",
       "      <th>Product Count</th>\n",
       "      <th>Has CC</th>\n",
       "      <th>Current Status</th>\n",
       "      <th>Current Salary</th>\n",
       "      <th>Still In Company</th>\n",
       "    </tr>\n",
       "  </thead>\n",
       "  <tbody>\n",
       "    <tr>\n",
       "      <th>0</th>\n",
       "      <td>15612615</td>\n",
       "      <td>Graham</td>\n",
       "      <td>616</td>\n",
       "      <td>ireland</td>\n",
       "      <td>female</td>\n",
       "      <td>37 yrs</td>\n",
       "      <td>6 yrs</td>\n",
       "      <td>€0.00</td>\n",
       "      <td>2</td>\n",
       "      <td>1</td>\n",
       "      <td>0</td>\n",
       "      <td>€86,242.18</td>\n",
       "      <td>0</td>\n",
       "    </tr>\n",
       "    <tr>\n",
       "      <th>1</th>\n",
       "      <td>15605835</td>\n",
       "      <td>Rice</td>\n",
       "      <td>743</td>\n",
       "      <td>ie</td>\n",
       "      <td>male</td>\n",
       "      <td>37</td>\n",
       "      <td>8</td>\n",
       "      <td>€69,143.91</td>\n",
       "      <td>TWO</td>\n",
       "      <td>0</td>\n",
       "      <td>Active</td>\n",
       "      <td>€105,780.18</td>\n",
       "      <td>0</td>\n",
       "    </tr>\n",
       "    <tr>\n",
       "      <th>2</th>\n",
       "      <td>15726250</td>\n",
       "      <td>Hsia</td>\n",
       "      <td>787</td>\n",
       "      <td>ireland</td>\n",
       "      <td>f</td>\n",
       "      <td>38</td>\n",
       "      <td>3</td>\n",
       "      <td>€166,328.65</td>\n",
       "      <td>2</td>\n",
       "      <td>No</td>\n",
       "      <td>1</td>\n",
       "      <td>€22,614.19</td>\n",
       "      <td>1</td>\n",
       "    </tr>\n",
       "    <tr>\n",
       "      <th>3</th>\n",
       "      <td>15676810</td>\n",
       "      <td>Jen</td>\n",
       "      <td>665</td>\n",
       "      <td>ie</td>\n",
       "      <td>1</td>\n",
       "      <td>31</td>\n",
       "      <td>1</td>\n",
       "      <td>€81,480.27</td>\n",
       "      <td>TWO</td>\n",
       "      <td>1</td>\n",
       "      <td>Active</td>\n",
       "      <td>€65,234.60</td>\n",
       "      <td>True</td>\n",
       "    </tr>\n",
       "    <tr>\n",
       "      <th>4</th>\n",
       "      <td>15691823</td>\n",
       "      <td>Obidimkpa</td>\n",
       "      <td>672</td>\n",
       "      <td>ie</td>\n",
       "      <td>0</td>\n",
       "      <td>37 yrs</td>\n",
       "      <td>5</td>\n",
       "      <td>€153,195.59</td>\n",
       "      <td>1</td>\n",
       "      <td>1</td>\n",
       "      <td>Active</td>\n",
       "      <td>€162,763.01</td>\n",
       "      <td>0</td>\n",
       "    </tr>\n",
       "  </tbody>\n",
       "</table>\n",
       "</div>"
      ],
      "text/plain": [
       "         Id    Surname  Credit Score Location  Gender     Age  \\\n",
       "0  15612615     Graham           616  ireland  female  37 yrs   \n",
       "1  15605835       Rice           743       ie    male      37   \n",
       "2  15726250       Hsia           787  ireland       f      38   \n",
       "3  15676810        Jen           665       ie       1      31   \n",
       "4  15691823  Obidimkpa           672       ie       0  37 yrs   \n",
       "\n",
       "  Years in Employment Current Balance Product Count Has CC Current Status  \\\n",
       "0               6 yrs           €0.00             2      1              0   \n",
       "1                   8      €69,143.91           TWO      0         Active   \n",
       "2                   3     €166,328.65             2     No              1   \n",
       "3                   1      €81,480.27           TWO      1         Active   \n",
       "4                   5     €153,195.59             1      1         Active   \n",
       "\n",
       "  Current Salary Still In Company  \n",
       "0     €86,242.18                0  \n",
       "1    €105,780.18                0  \n",
       "2     €22,614.19                1  \n",
       "3     €65,234.60             True  \n",
       "4    €162,763.01                0  "
      ]
     },
     "execution_count": 8,
     "metadata": {},
     "output_type": "execute_result"
    }
   ],
   "source": [
    "df_csv = pd.read_csv('{0}DATA8001_Assignment_2018_Data_csv.csv'.format(folder))\n",
    "df_json = pd.read_json('{0}DATA8001_Assignment_2018_Data_mongo.json'.format(folder))\n",
    "df_csv.head()"
   ]
  },
  {
   "cell_type": "code",
   "execution_count": 9,
   "metadata": {},
   "outputs": [
    {
     "name": "stdout",
     "output_type": "stream",
     "text": [
      "\n",
      "--- CSV ---\n",
      "Id                      int64\n",
      "Surname                object\n",
      "Credit Score            int64\n",
      "Location               object\n",
      "Gender                 object\n",
      "Age                    object\n",
      "Years in Employment    object\n",
      "Current Balance        object\n",
      "Product Count          object\n",
      "Has CC                 object\n",
      "Current Status         object\n",
      "Current Salary         object\n",
      "Still In Company       object\n",
      "dtype: object\n",
      "\n",
      "--- JSON ---\n",
      "Age                  object\n",
      "Balance              object\n",
      "Country              object\n",
      "Credit Card          object\n",
      "Current Tenure       object\n",
      "Cust_ID               int64\n",
      "Estimated Salary     object\n",
      "Existing Employee    object\n",
      "Gender               object\n",
      "Last Name            object\n",
      "Products             object\n",
      "Score                 int64\n",
      "Status               object\n",
      "dtype: object\n",
      "\n",
      "--- SQL ---\n",
      "customer_id       int64\n",
      "surname          object\n",
      "credit_score      int64\n",
      "geography        object\n",
      "gender           object\n",
      "age              object\n",
      "tenure           object\n",
      "balance          object\n",
      "num_products     object\n",
      "credit_card      object\n",
      "active_status    object\n",
      "salary_est       object\n",
      "exited           object\n",
      "dtype: object\n"
     ]
    }
   ],
   "source": [
    "print('\\n--- CSV ---')\n",
    "print(df_csv.dtypes)\n",
    "print('\\n--- JSON ---')\n",
    "print(df_json.dtypes)\n",
    "print('\\n--- SQL ---')\n",
    "print(df_sql.dtypes)"
   ]
  },
  {
   "cell_type": "code",
   "execution_count": 10,
   "metadata": {
    "collapsed": true
   },
   "outputs": [],
   "source": [
    "df_csv.rename(columns={'Id': 'customer_id'}, inplace=True)\n",
    "df_csv.rename(columns={'Surname': 'surname'}, inplace=True)\n",
    "df_csv.rename(columns={'Credit Score': 'credit_score'}, inplace=True)\n",
    "df_csv.rename(columns={'Location': 'geography'}, inplace=True)\n",
    "df_csv.rename(columns={'Gender': 'gender'}, inplace=True)\n",
    "df_csv.rename(columns={'Age': 'age'}, inplace=True)\n",
    "df_csv.rename(columns={'Years in Employment': 'tenure'}, inplace=True)\n",
    "df_csv.rename(columns={'Current Balance': 'balance'}, inplace=True)\n",
    "df_csv.rename(columns={'Product Count': 'num_products'}, inplace=True)\n",
    "df_csv.rename(columns={'Has CC': 'credit_card'}, inplace=True)\n",
    "df_csv.rename(columns={'Current Status': 'active_status'}, inplace=True)\n",
    "df_csv.rename(columns={'Current Salary': 'salary_est'}, inplace=True)\n",
    "df_csv.rename(columns={'Still In Company': 'exited'}, inplace=True)"
   ]
  },
  {
   "cell_type": "code",
   "execution_count": 11,
   "metadata": {
    "collapsed": true
   },
   "outputs": [],
   "source": [
    "df_json.rename(columns={'Cust_ID': 'customer_id'}, inplace=True)\n",
    "df_json.rename(columns={'Last Name': 'surname'}, inplace=True)\n",
    "df_json.rename(columns={'Score': 'credit_score'}, inplace=True)\n",
    "df_json.rename(columns={'Country': 'geography'}, inplace=True)\n",
    "df_json.rename(columns={'Gender': 'gender'}, inplace=True)\n",
    "df_json.rename(columns={'Age': 'age'}, inplace=True)\n",
    "df_json.rename(columns={'Current Tenure': 'tenure'}, inplace=True)\n",
    "df_json.rename(columns={'Balance': 'balance'}, inplace=True)\n",
    "df_json.rename(columns={'Products': 'num_products'}, inplace=True)\n",
    "df_json.rename(columns={'Credit Card': 'credit_card'}, inplace=True)\n",
    "df_json.rename(columns={'Status': 'active_status'}, inplace=True)\n",
    "df_json.rename(columns={'Estimated Salary': 'salary_est'}, inplace=True)\n",
    "df_json.rename(columns={'Existing Employee': 'exited'}, inplace=True)"
   ]
  },
  {
   "cell_type": "code",
   "execution_count": 12,
   "metadata": {
    "collapsed": true
   },
   "outputs": [],
   "source": [
    "\"\"\"\n",
    "    get the numpy data type\n",
    "\"\"\"\n",
    "def get_type(dtype):\n",
    "    if dtype == np.float16 or dtype == np.float32 or dtype == np.float64:\n",
    "        return 'float'\n",
    "    if dtype == np.int16 or dtype == np.int32 or dtype == np.int64:\n",
    "        return 'int'\n",
    "    if dtype == np.object:\n",
    "        return 'str'\n",
    "\n",
    "\"\"\"\n",
    "    get the dataframe info, column name and data type\n",
    "\"\"\"\n",
    "def get_dataframe_info(df):\n",
    "    # get the dataframe info as a series\n",
    "    info = df.dtypes.to_frame('column_type_temp')\n",
    "    # reset the df index\n",
    "    info.reset_index(drop=False, inplace=True)\n",
    "    # rename the column name\n",
    "    info.rename(columns={'index':'column_name'}, inplace=True)\n",
    "    # get the numpy data types inot new column\n",
    "    info['column_type'] = info.apply(lambda x: get_type(x['column_type_temp']), axis=1)\n",
    "    # subset of required columns\n",
    "    info = info[['column_name','column_type']]\n",
    "    # sort dataframe\n",
    "    info.sort_values(by=['column_name','column_type'], ascending=True, inplace=True)\n",
    "    # return the details as as dict\n",
    "    return info.to_dict(orient='results')"
   ]
  },
  {
   "cell_type": "code",
   "execution_count": 13,
   "metadata": {},
   "outputs": [
    {
     "name": "stdout",
     "output_type": "stream",
     "text": [
      "\n",
      "--- CSV ---\n",
      "[{'column_name': 'active_status', 'column_type': 'str'}, {'column_name': 'age', 'column_type': 'str'}, {'column_name': 'balance', 'column_type': 'str'}, {'column_name': 'credit_card', 'column_type': 'str'}, {'column_name': 'credit_score', 'column_type': 'int'}, {'column_name': 'customer_id', 'column_type': 'int'}, {'column_name': 'exited', 'column_type': 'str'}, {'column_name': 'gender', 'column_type': 'str'}, {'column_name': 'geography', 'column_type': 'str'}, {'column_name': 'num_products', 'column_type': 'str'}, {'column_name': 'salary_est', 'column_type': 'str'}, {'column_name': 'surname', 'column_type': 'str'}, {'column_name': 'tenure', 'column_type': 'str'}]\n",
      "\n",
      "--- JSON ---\n",
      "[{'column_name': 'active_status', 'column_type': 'str'}, {'column_name': 'age', 'column_type': 'str'}, {'column_name': 'balance', 'column_type': 'str'}, {'column_name': 'credit_card', 'column_type': 'str'}, {'column_name': 'credit_score', 'column_type': 'int'}, {'column_name': 'customer_id', 'column_type': 'int'}, {'column_name': 'exited', 'column_type': 'str'}, {'column_name': 'gender', 'column_type': 'str'}, {'column_name': 'geography', 'column_type': 'str'}, {'column_name': 'num_products', 'column_type': 'str'}, {'column_name': 'salary_est', 'column_type': 'str'}, {'column_name': 'surname', 'column_type': 'str'}, {'column_name': 'tenure', 'column_type': 'str'}]\n",
      "\n",
      "--- SQL ---\n",
      "[{'column_name': 'active_status', 'column_type': 'str'}, {'column_name': 'age', 'column_type': 'str'}, {'column_name': 'balance', 'column_type': 'str'}, {'column_name': 'credit_card', 'column_type': 'str'}, {'column_name': 'credit_score', 'column_type': 'int'}, {'column_name': 'customer_id', 'column_type': 'int'}, {'column_name': 'exited', 'column_type': 'str'}, {'column_name': 'gender', 'column_type': 'str'}, {'column_name': 'geography', 'column_type': 'str'}, {'column_name': 'num_products', 'column_type': 'str'}, {'column_name': 'salary_est', 'column_type': 'str'}, {'column_name': 'surname', 'column_type': 'str'}, {'column_name': 'tenure', 'column_type': 'str'}]\n"
     ]
    }
   ],
   "source": [
    "# Test the function\n",
    "print('\\n--- CSV ---')\n",
    "print(get_dataframe_info(df=df_csv))\n",
    "print('\\n--- JSON ---')\n",
    "print(get_dataframe_info(df=df_json))\n",
    "print('\\n--- SQL ---')\n",
    "print(get_dataframe_info(df=df_sql))"
   ]
  },
  {
   "cell_type": "code",
   "execution_count": 14,
   "metadata": {
    "collapsed": true
   },
   "outputs": [],
   "source": [
    "def dataframe_compare_column_info(df1, df2):\n",
    "    valid = True\n",
    "    infoA = get_dataframe_info(df=df1) # get the sorted column name & type of dataframe A\n",
    "    infoB = get_dataframe_info(df=df2) # get the sorted column name & type of dataframe B\n",
    "    \n",
    "    # Create an empty list to store the results (if any).\n",
    "    # Note: the list is empty with no size (length), unlike list in the get_sframe_column_info function?\n",
    "    # this allows for a dynamic list to be created, appendign items as required\n",
    "    result = []\n",
    "     \n",
    "    for i in range(len(infoA)):\n",
    "        if infoA[i]['column_name'] != infoB[i]['column_name']: # check if teh column names match (recall, they are sotrted by col name)\n",
    "            valid = False # if the column names don't match, return from the function\n",
    "            i = len(infoA) # drop out of the loop, i.e., set i to be the max value in teh for loop range\n",
    "        else:\n",
    "            if infoA[i]['column_type'] != infoB[i]['column_type']: # the col names are valid, do the column types match?\n",
    "                result.append(infoB[i])\n",
    "                \n",
    "    return valid, result # return the results (i.e., column names match, any mismatches in column types)"
   ]
  },
  {
   "cell_type": "code",
   "execution_count": 15,
   "metadata": {},
   "outputs": [
    {
     "name": "stdout",
     "output_type": "stream",
     "text": [
      "--- CSV vs. JSON ---\n",
      "(True, [])\n",
      "--- CSV vs. SQL ---\n",
      "(True, [])\n"
     ]
    }
   ],
   "source": [
    "# Test the function\n",
    "print('--- CSV vs. JSON ---')\n",
    "print(dataframe_compare_column_info(df1=df_csv, df2=df_json)) # all good here\n",
    "print('--- CSV vs. SQL ---')\n",
    "print(dataframe_compare_column_info(df1=df_csv, df2=df_sql)) # all good here"
   ]
  },
  {
   "cell_type": "code",
   "execution_count": 16,
   "metadata": {},
   "outputs": [
    {
     "data": {
      "text/html": [
       "<div>\n",
       "<style>\n",
       "    .dataframe thead tr:only-child th {\n",
       "        text-align: right;\n",
       "    }\n",
       "\n",
       "    .dataframe thead th {\n",
       "        text-align: left;\n",
       "    }\n",
       "\n",
       "    .dataframe tbody tr th {\n",
       "        vertical-align: top;\n",
       "    }\n",
       "</style>\n",
       "<table border=\"1\" class=\"dataframe\">\n",
       "  <thead>\n",
       "    <tr style=\"text-align: right;\">\n",
       "      <th></th>\n",
       "      <th>active_status</th>\n",
       "      <th>age</th>\n",
       "      <th>balance</th>\n",
       "      <th>credit_card</th>\n",
       "      <th>credit_score</th>\n",
       "      <th>customer_id</th>\n",
       "      <th>exited</th>\n",
       "      <th>gender</th>\n",
       "      <th>geography</th>\n",
       "      <th>num_products</th>\n",
       "      <th>salary_est</th>\n",
       "      <th>surname</th>\n",
       "      <th>tenure</th>\n",
       "    </tr>\n",
       "  </thead>\n",
       "  <tbody>\n",
       "    <tr>\n",
       "      <th>0</th>\n",
       "      <td>0</td>\n",
       "      <td>37 yrs</td>\n",
       "      <td>€0.00</td>\n",
       "      <td>1</td>\n",
       "      <td>616</td>\n",
       "      <td>15612615</td>\n",
       "      <td>0</td>\n",
       "      <td>female</td>\n",
       "      <td>ireland</td>\n",
       "      <td>2</td>\n",
       "      <td>€86,242.18</td>\n",
       "      <td>Graham</td>\n",
       "      <td>6 yrs</td>\n",
       "    </tr>\n",
       "    <tr>\n",
       "      <th>1</th>\n",
       "      <td>Active</td>\n",
       "      <td>37</td>\n",
       "      <td>€69,143.91</td>\n",
       "      <td>0</td>\n",
       "      <td>743</td>\n",
       "      <td>15605835</td>\n",
       "      <td>0</td>\n",
       "      <td>male</td>\n",
       "      <td>ie</td>\n",
       "      <td>TWO</td>\n",
       "      <td>€105,780.18</td>\n",
       "      <td>Rice</td>\n",
       "      <td>8</td>\n",
       "    </tr>\n",
       "    <tr>\n",
       "      <th>2</th>\n",
       "      <td>1</td>\n",
       "      <td>38</td>\n",
       "      <td>€166,328.65</td>\n",
       "      <td>No</td>\n",
       "      <td>787</td>\n",
       "      <td>15726250</td>\n",
       "      <td>1</td>\n",
       "      <td>f</td>\n",
       "      <td>ireland</td>\n",
       "      <td>2</td>\n",
       "      <td>€22,614.19</td>\n",
       "      <td>Hsia</td>\n",
       "      <td>3</td>\n",
       "    </tr>\n",
       "    <tr>\n",
       "      <th>3</th>\n",
       "      <td>Active</td>\n",
       "      <td>31</td>\n",
       "      <td>€81,480.27</td>\n",
       "      <td>1</td>\n",
       "      <td>665</td>\n",
       "      <td>15676810</td>\n",
       "      <td>True</td>\n",
       "      <td>1</td>\n",
       "      <td>ie</td>\n",
       "      <td>TWO</td>\n",
       "      <td>€65,234.60</td>\n",
       "      <td>Jen</td>\n",
       "      <td>1</td>\n",
       "    </tr>\n",
       "    <tr>\n",
       "      <th>4</th>\n",
       "      <td>Active</td>\n",
       "      <td>37 yrs</td>\n",
       "      <td>€153,195.59</td>\n",
       "      <td>1</td>\n",
       "      <td>672</td>\n",
       "      <td>15691823</td>\n",
       "      <td>0</td>\n",
       "      <td>0</td>\n",
       "      <td>ie</td>\n",
       "      <td>1</td>\n",
       "      <td>€162,763.01</td>\n",
       "      <td>Obidimkpa</td>\n",
       "      <td>5</td>\n",
       "    </tr>\n",
       "  </tbody>\n",
       "</table>\n",
       "</div>"
      ],
      "text/plain": [
       "  active_status     age      balance credit_card  credit_score  customer_id  \\\n",
       "0             0  37 yrs        €0.00           1           616     15612615   \n",
       "1        Active      37   €69,143.91           0           743     15605835   \n",
       "2             1      38  €166,328.65          No           787     15726250   \n",
       "3        Active      31   €81,480.27           1           665     15676810   \n",
       "4        Active  37 yrs  €153,195.59           1           672     15691823   \n",
       "\n",
       "  exited  gender geography num_products   salary_est    surname tenure  \n",
       "0      0  female   ireland            2   €86,242.18     Graham  6 yrs  \n",
       "1      0    male        ie          TWO  €105,780.18       Rice      8  \n",
       "2      1       f   ireland            2   €22,614.19       Hsia      3  \n",
       "3   True       1        ie          TWO   €65,234.60        Jen      1  \n",
       "4      0       0        ie            1  €162,763.01  Obidimkpa      5  "
      ]
     },
     "execution_count": 16,
     "metadata": {},
     "output_type": "execute_result"
    }
   ],
   "source": [
    "# use the pandas concatenate of data frames in a list\n",
    "df_list = [df_csv, df_json, df_sql]\n",
    "# df_list\n",
    "df_master = pd.concat(df_list)\n",
    "df_master.head()"
   ]
  },
  {
   "cell_type": "markdown",
   "metadata": {},
   "source": [
    "# Clean Master Dataset\n",
    "1. Create & test cleaning functions (geography, gender, age, tenure, balance, num_products, credit_card, active_status, salary_est, exited) y value is exited column\n",
    "<br/>**Note:** After reviewing the datatypes from each column, you will be able to create generic cleaning functions.\n",
    "2. Apply the cleaning functions to the master dataset. Remeber to remove old columns and rename new columns if required. Your clean dataset should have the same column names as the original dataset. Ensure your columns are of teh correct data type (e.g. integers, floats & objects {strings})\n",
    "3. Save the cleaned master dataset to your folder. This is the file to be imported into Qlik Sense.\n",
    "<br/>**Qlik Filename:** DATA8001_Assignment_2018_Data_Cleaned_Qlik_XXXXXX.csv where XXXXXX is your CIT student number"
   ]
  },
  {
   "cell_type": "code",
   "execution_count": 17,
   "metadata": {
    "collapsed": true
   },
   "outputs": [],
   "source": [
    "def clean_geography(location):\n",
    "    output = ''\n",
    "    if 'ie' in location:\n",
    "        output = location.replace('ie','IE')\n",
    "    elif 'ireland' in location:\n",
    "        output = location.replace('ireland','IE')\n",
    "    elif 'north america' in location:\n",
    "        output = location.replace('north america','USA')\n",
    "    elif 'usa' in location:\n",
    "        output = location.replace('usa','USA')\n",
    "    elif 'uk' in location:\n",
    "        output = location.replace('uk','UK')\n",
    "    elif 'united kingdom' in location:\n",
    "        output = location.replace('united kingdom','UK')\n",
    "    else:\n",
    "        output = location\n",
    "    return output"
   ]
  },
  {
   "cell_type": "code",
   "execution_count": 18,
   "metadata": {
    "collapsed": true
   },
   "outputs": [],
   "source": [
    "def clean_gender(sex):\n",
    "    output = ''\n",
    "    if 'M' in sex:\n",
    "        output = sex.replace('M','0')\n",
    "    elif 'female' in sex:\n",
    "        output = sex.replace('female','1')\n",
    "    elif 'male' in sex:\n",
    "        output = sex.replace('male','0')\n",
    "    elif 'm' in sex:\n",
    "        output = sex.replace('m','0')\n",
    "    elif 'F' in sex:\n",
    "        output = sex.replace('F','1')\n",
    "    elif 'f' in sex:\n",
    "        output = sex.replace('f','1')\n",
    "    else:\n",
    "        output = sex\n",
    "    output = int(output)\n",
    "    return output"
   ]
  },
  {
   "cell_type": "code",
   "execution_count": 19,
   "metadata": {
    "collapsed": true
   },
   "outputs": [],
   "source": [
    "def clean_years(age):\n",
    "    age = str(age)\n",
    "    output = ''\n",
    "    if ' yrs' in age:\n",
    "        output = age.replace(' yrs','')\n",
    "    elif ' yr' in age:\n",
    "        output = age.replace(' yr','')\n",
    "    else:\n",
    "        output = age\n",
    "    output = int(output)\n",
    "    return output"
   ]
  },
  {
   "cell_type": "code",
   "execution_count": 20,
   "metadata": {
    "collapsed": true
   },
   "outputs": [],
   "source": [
    "def clean_money(money):\n",
    "    output = money.replace(',','')\n",
    "    if '£' in money:\n",
    "        output = output.replace('£','')       \n",
    "        output = float(output)\n",
    "        output = output * 0.891355    \n",
    "    elif '$' in money:\n",
    "        output = output.replace('$','')\n",
    "        output = float(output)\n",
    "        output = output * 1.22870\n",
    "    elif '€' in money:\n",
    "        output = output.replace('€','')\n",
    "        output = float(output)\n",
    "    output = output*100\n",
    "    output = int(output)\n",
    "    output = output/100\n",
    "    output= float(output)\n",
    "    return output"
   ]
  },
  {
   "cell_type": "code",
   "execution_count": 21,
   "metadata": {
    "collapsed": true
   },
   "outputs": [],
   "source": [
    "def clean_num_products(num_products):\n",
    "    num_products = str(num_products)\n",
    "    output = \"\"\n",
    "    if 'one' in num_products:\n",
    "        output = num_products.replace('one','1')\n",
    "    elif 'ONE' in num_products:\n",
    "        output = num_products.replace('ONE','1')\n",
    "    elif 'two' in num_products:\n",
    "        output = num_products.replace('two','2')\n",
    "    elif 'TWO' in num_products:\n",
    "        output = num_products.replace('TWO','2')\n",
    "    elif 'three' in num_products:\n",
    "        output = num_products.replace('three','3')  \n",
    "    elif 'THREE' in num_products:\n",
    "        output = num_products.replace('THREE','3')\n",
    "    elif 'four' in num_products:\n",
    "        output = num_products.replace('four','4')\n",
    "    elif 'FOUR' in num_products:\n",
    "        output = num_products.replace('FOUR','4')\n",
    "    else:\n",
    "        output = num_products\n",
    "    output = int(output)\n",
    "    return output"
   ]
  },
  {
   "cell_type": "code",
   "execution_count": 22,
   "metadata": {
    "collapsed": true
   },
   "outputs": [],
   "source": [
    "def clean_status(status):\n",
    "    status = str(status)\n",
    "    output = \"\"\n",
    "    if 'Yes' in status:\n",
    "        output = status.replace('Yes','1')\n",
    "    elif 'No' in status:\n",
    "        output = status.replace('No','0')\n",
    "    elif 'Active' in status:\n",
    "        output = status.replace('Active','1')\n",
    "    elif 'Inactive' in status:\n",
    "        output = status.replace('Inactive','0')\n",
    "    elif 'True' in status:\n",
    "        output = status.replace('True','1')\n",
    "    elif 'False' in status:\n",
    "        output = status.replace('False','0')\n",
    "    else:\n",
    "        output = status\n",
    "    output = int(output)\n",
    "    return output"
   ]
  },
  {
   "cell_type": "code",
   "execution_count": 23,
   "metadata": {},
   "outputs": [
    {
     "data": {
      "text/html": [
       "<div>\n",
       "<style>\n",
       "    .dataframe thead tr:only-child th {\n",
       "        text-align: right;\n",
       "    }\n",
       "\n",
       "    .dataframe thead th {\n",
       "        text-align: left;\n",
       "    }\n",
       "\n",
       "    .dataframe tbody tr th {\n",
       "        vertical-align: top;\n",
       "    }\n",
       "</style>\n",
       "<table border=\"1\" class=\"dataframe\">\n",
       "  <thead>\n",
       "    <tr style=\"text-align: right;\">\n",
       "      <th></th>\n",
       "      <th>active_status</th>\n",
       "      <th>age</th>\n",
       "      <th>balance</th>\n",
       "      <th>credit_card</th>\n",
       "      <th>credit_score</th>\n",
       "      <th>customer_id</th>\n",
       "      <th>exited</th>\n",
       "      <th>gender</th>\n",
       "      <th>geography</th>\n",
       "      <th>num_products</th>\n",
       "      <th>...</th>\n",
       "      <th>Cleaned_Geography</th>\n",
       "      <th>Cleaned_Gender</th>\n",
       "      <th>Cleaned_Age</th>\n",
       "      <th>Cleaned_Tenure</th>\n",
       "      <th>Cleaned_Balance</th>\n",
       "      <th>Cleaned_Num_Products</th>\n",
       "      <th>Cleaned_credit_card</th>\n",
       "      <th>Cleaned_active_status</th>\n",
       "      <th>Cleaned_salary_est</th>\n",
       "      <th>Cleaned_exited</th>\n",
       "    </tr>\n",
       "  </thead>\n",
       "  <tbody>\n",
       "    <tr>\n",
       "      <th>0</th>\n",
       "      <td>0</td>\n",
       "      <td>37 yrs</td>\n",
       "      <td>€0.00</td>\n",
       "      <td>1</td>\n",
       "      <td>616</td>\n",
       "      <td>15612615</td>\n",
       "      <td>0</td>\n",
       "      <td>female</td>\n",
       "      <td>ireland</td>\n",
       "      <td>2</td>\n",
       "      <td>...</td>\n",
       "      <td>IE</td>\n",
       "      <td>1</td>\n",
       "      <td>37</td>\n",
       "      <td>6</td>\n",
       "      <td>0.00</td>\n",
       "      <td>2</td>\n",
       "      <td>1</td>\n",
       "      <td>0</td>\n",
       "      <td>86242.18</td>\n",
       "      <td>0</td>\n",
       "    </tr>\n",
       "    <tr>\n",
       "      <th>1</th>\n",
       "      <td>Active</td>\n",
       "      <td>37</td>\n",
       "      <td>€69,143.91</td>\n",
       "      <td>0</td>\n",
       "      <td>743</td>\n",
       "      <td>15605835</td>\n",
       "      <td>0</td>\n",
       "      <td>male</td>\n",
       "      <td>ie</td>\n",
       "      <td>TWO</td>\n",
       "      <td>...</td>\n",
       "      <td>IE</td>\n",
       "      <td>0</td>\n",
       "      <td>37</td>\n",
       "      <td>8</td>\n",
       "      <td>69143.91</td>\n",
       "      <td>2</td>\n",
       "      <td>0</td>\n",
       "      <td>1</td>\n",
       "      <td>105780.18</td>\n",
       "      <td>0</td>\n",
       "    </tr>\n",
       "    <tr>\n",
       "      <th>2</th>\n",
       "      <td>1</td>\n",
       "      <td>38</td>\n",
       "      <td>€166,328.65</td>\n",
       "      <td>No</td>\n",
       "      <td>787</td>\n",
       "      <td>15726250</td>\n",
       "      <td>1</td>\n",
       "      <td>f</td>\n",
       "      <td>ireland</td>\n",
       "      <td>2</td>\n",
       "      <td>...</td>\n",
       "      <td>IE</td>\n",
       "      <td>1</td>\n",
       "      <td>38</td>\n",
       "      <td>3</td>\n",
       "      <td>166328.65</td>\n",
       "      <td>2</td>\n",
       "      <td>0</td>\n",
       "      <td>1</td>\n",
       "      <td>22614.19</td>\n",
       "      <td>1</td>\n",
       "    </tr>\n",
       "    <tr>\n",
       "      <th>3</th>\n",
       "      <td>Active</td>\n",
       "      <td>31</td>\n",
       "      <td>€81,480.27</td>\n",
       "      <td>1</td>\n",
       "      <td>665</td>\n",
       "      <td>15676810</td>\n",
       "      <td>True</td>\n",
       "      <td>1</td>\n",
       "      <td>ie</td>\n",
       "      <td>TWO</td>\n",
       "      <td>...</td>\n",
       "      <td>IE</td>\n",
       "      <td>1</td>\n",
       "      <td>31</td>\n",
       "      <td>1</td>\n",
       "      <td>81480.27</td>\n",
       "      <td>2</td>\n",
       "      <td>1</td>\n",
       "      <td>1</td>\n",
       "      <td>65234.60</td>\n",
       "      <td>1</td>\n",
       "    </tr>\n",
       "    <tr>\n",
       "      <th>4</th>\n",
       "      <td>Active</td>\n",
       "      <td>37 yrs</td>\n",
       "      <td>€153,195.59</td>\n",
       "      <td>1</td>\n",
       "      <td>672</td>\n",
       "      <td>15691823</td>\n",
       "      <td>0</td>\n",
       "      <td>0</td>\n",
       "      <td>ie</td>\n",
       "      <td>1</td>\n",
       "      <td>...</td>\n",
       "      <td>IE</td>\n",
       "      <td>0</td>\n",
       "      <td>37</td>\n",
       "      <td>5</td>\n",
       "      <td>153195.59</td>\n",
       "      <td>1</td>\n",
       "      <td>1</td>\n",
       "      <td>1</td>\n",
       "      <td>162763.01</td>\n",
       "      <td>0</td>\n",
       "    </tr>\n",
       "  </tbody>\n",
       "</table>\n",
       "<p>5 rows × 23 columns</p>\n",
       "</div>"
      ],
      "text/plain": [
       "  active_status     age      balance credit_card  credit_score  customer_id  \\\n",
       "0             0  37 yrs        €0.00           1           616     15612615   \n",
       "1        Active      37   €69,143.91           0           743     15605835   \n",
       "2             1      38  €166,328.65          No           787     15726250   \n",
       "3        Active      31   €81,480.27           1           665     15676810   \n",
       "4        Active  37 yrs  €153,195.59           1           672     15691823   \n",
       "\n",
       "  exited  gender geography num_products       ...       Cleaned_Geography  \\\n",
       "0      0  female   ireland            2       ...                      IE   \n",
       "1      0    male        ie          TWO       ...                      IE   \n",
       "2      1       f   ireland            2       ...                      IE   \n",
       "3   True       1        ie          TWO       ...                      IE   \n",
       "4      0       0        ie            1       ...                      IE   \n",
       "\n",
       "  Cleaned_Gender Cleaned_Age Cleaned_Tenure  Cleaned_Balance  \\\n",
       "0              1          37              6             0.00   \n",
       "1              0          37              8         69143.91   \n",
       "2              1          38              3        166328.65   \n",
       "3              1          31              1         81480.27   \n",
       "4              0          37              5        153195.59   \n",
       "\n",
       "   Cleaned_Num_Products  Cleaned_credit_card  Cleaned_active_status  \\\n",
       "0                     2                    1                      0   \n",
       "1                     2                    0                      1   \n",
       "2                     2                    0                      1   \n",
       "3                     2                    1                      1   \n",
       "4                     1                    1                      1   \n",
       "\n",
       "   Cleaned_salary_est  Cleaned_exited  \n",
       "0            86242.18               0  \n",
       "1           105780.18               0  \n",
       "2            22614.19               1  \n",
       "3            65234.60               1  \n",
       "4           162763.01               0  \n",
       "\n",
       "[5 rows x 23 columns]"
      ]
     },
     "execution_count": 23,
     "metadata": {},
     "output_type": "execute_result"
    }
   ],
   "source": [
    "df_master['Cleaned_Geography'] = df_master.apply(lambda x: clean_geography(x['geography']), axis=1)\n",
    "df_master['Cleaned_Gender'] = df_master.apply(lambda x: clean_gender(x['gender']), axis=1)\n",
    "df_master['Cleaned_Age'] = df_master.apply(lambda x: clean_years(x['age']), axis=1)\n",
    "df_master['Cleaned_Tenure'] = df_master.apply(lambda x: clean_years(x['tenure']), axis=1)\n",
    "df_master['Cleaned_Balance'] = df_master.apply(lambda x: clean_money(x['balance']), axis=1)\n",
    "df_master['Cleaned_Num_Products'] = df_master.apply(lambda x: clean_num_products(x['num_products']), axis=1)\n",
    "df_master['Cleaned_credit_card'] = df_master.apply(lambda x: clean_status(x['credit_card']), axis=1)\n",
    "df_master['Cleaned_active_status'] = df_master.apply(lambda x: clean_status(x['active_status']), axis=1)\n",
    "df_master['Cleaned_salary_est'] = df_master.apply(lambda x: clean_money(x['salary_est']), axis=1)\n",
    "df_master['Cleaned_exited'] = df_master.apply(lambda x: clean_status(x['exited']), axis=1)\n",
    "df_master.head()"
   ]
  },
  {
   "cell_type": "code",
   "execution_count": 24,
   "metadata": {},
   "outputs": [
    {
     "data": {
      "text/html": [
       "<div>\n",
       "<style>\n",
       "    .dataframe thead tr:only-child th {\n",
       "        text-align: right;\n",
       "    }\n",
       "\n",
       "    .dataframe thead th {\n",
       "        text-align: left;\n",
       "    }\n",
       "\n",
       "    .dataframe tbody tr th {\n",
       "        vertical-align: top;\n",
       "    }\n",
       "</style>\n",
       "<table border=\"1\" class=\"dataframe\">\n",
       "  <thead>\n",
       "    <tr style=\"text-align: right;\">\n",
       "      <th></th>\n",
       "      <th>credit_score</th>\n",
       "      <th>customer_id</th>\n",
       "      <th>surname</th>\n",
       "      <th>Cleaned_Geography</th>\n",
       "      <th>Cleaned_Gender</th>\n",
       "      <th>Cleaned_Age</th>\n",
       "      <th>Cleaned_Tenure</th>\n",
       "      <th>Cleaned_Balance</th>\n",
       "      <th>Cleaned_Num_Products</th>\n",
       "      <th>Cleaned_credit_card</th>\n",
       "      <th>Cleaned_active_status</th>\n",
       "      <th>Cleaned_salary_est</th>\n",
       "      <th>Cleaned_exited</th>\n",
       "    </tr>\n",
       "  </thead>\n",
       "  <tbody>\n",
       "    <tr>\n",
       "      <th>0</th>\n",
       "      <td>616</td>\n",
       "      <td>15612615</td>\n",
       "      <td>Graham</td>\n",
       "      <td>IE</td>\n",
       "      <td>1</td>\n",
       "      <td>37</td>\n",
       "      <td>6</td>\n",
       "      <td>0.00</td>\n",
       "      <td>2</td>\n",
       "      <td>1</td>\n",
       "      <td>0</td>\n",
       "      <td>86242.18</td>\n",
       "      <td>0</td>\n",
       "    </tr>\n",
       "    <tr>\n",
       "      <th>1</th>\n",
       "      <td>743</td>\n",
       "      <td>15605835</td>\n",
       "      <td>Rice</td>\n",
       "      <td>IE</td>\n",
       "      <td>0</td>\n",
       "      <td>37</td>\n",
       "      <td>8</td>\n",
       "      <td>69143.91</td>\n",
       "      <td>2</td>\n",
       "      <td>0</td>\n",
       "      <td>1</td>\n",
       "      <td>105780.18</td>\n",
       "      <td>0</td>\n",
       "    </tr>\n",
       "    <tr>\n",
       "      <th>2</th>\n",
       "      <td>787</td>\n",
       "      <td>15726250</td>\n",
       "      <td>Hsia</td>\n",
       "      <td>IE</td>\n",
       "      <td>1</td>\n",
       "      <td>38</td>\n",
       "      <td>3</td>\n",
       "      <td>166328.65</td>\n",
       "      <td>2</td>\n",
       "      <td>0</td>\n",
       "      <td>1</td>\n",
       "      <td>22614.19</td>\n",
       "      <td>1</td>\n",
       "    </tr>\n",
       "    <tr>\n",
       "      <th>3</th>\n",
       "      <td>665</td>\n",
       "      <td>15676810</td>\n",
       "      <td>Jen</td>\n",
       "      <td>IE</td>\n",
       "      <td>1</td>\n",
       "      <td>31</td>\n",
       "      <td>1</td>\n",
       "      <td>81480.27</td>\n",
       "      <td>2</td>\n",
       "      <td>1</td>\n",
       "      <td>1</td>\n",
       "      <td>65234.60</td>\n",
       "      <td>1</td>\n",
       "    </tr>\n",
       "    <tr>\n",
       "      <th>4</th>\n",
       "      <td>672</td>\n",
       "      <td>15691823</td>\n",
       "      <td>Obidimkpa</td>\n",
       "      <td>IE</td>\n",
       "      <td>0</td>\n",
       "      <td>37</td>\n",
       "      <td>5</td>\n",
       "      <td>153195.59</td>\n",
       "      <td>1</td>\n",
       "      <td>1</td>\n",
       "      <td>1</td>\n",
       "      <td>162763.01</td>\n",
       "      <td>0</td>\n",
       "    </tr>\n",
       "  </tbody>\n",
       "</table>\n",
       "</div>"
      ],
      "text/plain": [
       "   credit_score  customer_id    surname Cleaned_Geography  Cleaned_Gender  \\\n",
       "0           616     15612615     Graham                IE               1   \n",
       "1           743     15605835       Rice                IE               0   \n",
       "2           787     15726250       Hsia                IE               1   \n",
       "3           665     15676810        Jen                IE               1   \n",
       "4           672     15691823  Obidimkpa                IE               0   \n",
       "\n",
       "   Cleaned_Age  Cleaned_Tenure  Cleaned_Balance  Cleaned_Num_Products  \\\n",
       "0           37               6             0.00                     2   \n",
       "1           37               8         69143.91                     2   \n",
       "2           38               3        166328.65                     2   \n",
       "3           31               1         81480.27                     2   \n",
       "4           37               5        153195.59                     1   \n",
       "\n",
       "   Cleaned_credit_card  Cleaned_active_status  Cleaned_salary_est  \\\n",
       "0                    1                      0            86242.18   \n",
       "1                    0                      1           105780.18   \n",
       "2                    0                      1            22614.19   \n",
       "3                    1                      1            65234.60   \n",
       "4                    1                      1           162763.01   \n",
       "\n",
       "   Cleaned_exited  \n",
       "0               0  \n",
       "1               0  \n",
       "2               1  \n",
       "3               1  \n",
       "4               0  "
      ]
     },
     "execution_count": 24,
     "metadata": {},
     "output_type": "execute_result"
    }
   ],
   "source": [
    "del df_master['geography']\n",
    "del df_master['gender']\n",
    "del df_master['age']\n",
    "del df_master['tenure']\n",
    "del df_master['balance']\n",
    "del df_master['num_products']\n",
    "del df_master['credit_card']\n",
    "del df_master['active_status']\n",
    "del df_master['salary_est']\n",
    "del df_master['exited']\n",
    "df_master.head()"
   ]
  },
  {
   "cell_type": "code",
   "execution_count": 25,
   "metadata": {},
   "outputs": [
    {
     "data": {
      "text/html": [
       "<div>\n",
       "<style>\n",
       "    .dataframe thead tr:only-child th {\n",
       "        text-align: right;\n",
       "    }\n",
       "\n",
       "    .dataframe thead th {\n",
       "        text-align: left;\n",
       "    }\n",
       "\n",
       "    .dataframe tbody tr th {\n",
       "        vertical-align: top;\n",
       "    }\n",
       "</style>\n",
       "<table border=\"1\" class=\"dataframe\">\n",
       "  <thead>\n",
       "    <tr style=\"text-align: right;\">\n",
       "      <th></th>\n",
       "      <th>credit_score</th>\n",
       "      <th>customer_id</th>\n",
       "      <th>surname</th>\n",
       "      <th>geography</th>\n",
       "      <th>gender</th>\n",
       "      <th>age</th>\n",
       "      <th>tenure</th>\n",
       "      <th>balance</th>\n",
       "      <th>num_products</th>\n",
       "      <th>credit_card</th>\n",
       "      <th>active_status</th>\n",
       "      <th>salary_est</th>\n",
       "      <th>exited</th>\n",
       "    </tr>\n",
       "  </thead>\n",
       "  <tbody>\n",
       "    <tr>\n",
       "      <th>0</th>\n",
       "      <td>616</td>\n",
       "      <td>15612615</td>\n",
       "      <td>Graham</td>\n",
       "      <td>IE</td>\n",
       "      <td>1</td>\n",
       "      <td>37</td>\n",
       "      <td>6</td>\n",
       "      <td>0.00</td>\n",
       "      <td>2</td>\n",
       "      <td>1</td>\n",
       "      <td>0</td>\n",
       "      <td>86242.18</td>\n",
       "      <td>0</td>\n",
       "    </tr>\n",
       "    <tr>\n",
       "      <th>1</th>\n",
       "      <td>743</td>\n",
       "      <td>15605835</td>\n",
       "      <td>Rice</td>\n",
       "      <td>IE</td>\n",
       "      <td>0</td>\n",
       "      <td>37</td>\n",
       "      <td>8</td>\n",
       "      <td>69143.91</td>\n",
       "      <td>2</td>\n",
       "      <td>0</td>\n",
       "      <td>1</td>\n",
       "      <td>105780.18</td>\n",
       "      <td>0</td>\n",
       "    </tr>\n",
       "    <tr>\n",
       "      <th>2</th>\n",
       "      <td>787</td>\n",
       "      <td>15726250</td>\n",
       "      <td>Hsia</td>\n",
       "      <td>IE</td>\n",
       "      <td>1</td>\n",
       "      <td>38</td>\n",
       "      <td>3</td>\n",
       "      <td>166328.65</td>\n",
       "      <td>2</td>\n",
       "      <td>0</td>\n",
       "      <td>1</td>\n",
       "      <td>22614.19</td>\n",
       "      <td>1</td>\n",
       "    </tr>\n",
       "    <tr>\n",
       "      <th>3</th>\n",
       "      <td>665</td>\n",
       "      <td>15676810</td>\n",
       "      <td>Jen</td>\n",
       "      <td>IE</td>\n",
       "      <td>1</td>\n",
       "      <td>31</td>\n",
       "      <td>1</td>\n",
       "      <td>81480.27</td>\n",
       "      <td>2</td>\n",
       "      <td>1</td>\n",
       "      <td>1</td>\n",
       "      <td>65234.60</td>\n",
       "      <td>1</td>\n",
       "    </tr>\n",
       "    <tr>\n",
       "      <th>4</th>\n",
       "      <td>672</td>\n",
       "      <td>15691823</td>\n",
       "      <td>Obidimkpa</td>\n",
       "      <td>IE</td>\n",
       "      <td>0</td>\n",
       "      <td>37</td>\n",
       "      <td>5</td>\n",
       "      <td>153195.59</td>\n",
       "      <td>1</td>\n",
       "      <td>1</td>\n",
       "      <td>1</td>\n",
       "      <td>162763.01</td>\n",
       "      <td>0</td>\n",
       "    </tr>\n",
       "  </tbody>\n",
       "</table>\n",
       "</div>"
      ],
      "text/plain": [
       "   credit_score  customer_id    surname geography  gender  age  tenure  \\\n",
       "0           616     15612615     Graham        IE       1   37       6   \n",
       "1           743     15605835       Rice        IE       0   37       8   \n",
       "2           787     15726250       Hsia        IE       1   38       3   \n",
       "3           665     15676810        Jen        IE       1   31       1   \n",
       "4           672     15691823  Obidimkpa        IE       0   37       5   \n",
       "\n",
       "     balance  num_products  credit_card  active_status  salary_est  exited  \n",
       "0       0.00             2            1              0    86242.18       0  \n",
       "1   69143.91             2            0              1   105780.18       0  \n",
       "2  166328.65             2            0              1    22614.19       1  \n",
       "3   81480.27             2            1              1    65234.60       1  \n",
       "4  153195.59             1            1              1   162763.01       0  "
      ]
     },
     "execution_count": 25,
     "metadata": {},
     "output_type": "execute_result"
    }
   ],
   "source": [
    "df_master.rename(columns={'Cleaned_Geography': 'geography'}, inplace=True)\n",
    "df_master.rename(columns={'Cleaned_Gender': 'gender'}, inplace=True)\n",
    "df_master.rename(columns={'Cleaned_Age': 'age'}, inplace=True)\n",
    "df_master.rename(columns={'Cleaned_Tenure': 'tenure'}, inplace=True)\n",
    "df_master.rename(columns={'Cleaned_Balance': 'balance'}, inplace=True)\n",
    "df_master.rename(columns={'Cleaned_Num_Products': 'num_products'}, inplace=True)\n",
    "df_master.rename(columns={'Cleaned_credit_card': 'credit_card'}, inplace=True)\n",
    "df_master.rename(columns={'Cleaned_active_status': 'active_status'}, inplace=True)\n",
    "df_master.rename(columns={'Cleaned_salary_est': 'salary_est'}, inplace=True)\n",
    "df_master.rename(columns={'Cleaned_exited': 'exited'}, inplace=True)\n",
    "\n",
    "df_master.head()"
   ]
  },
  {
   "cell_type": "code",
   "execution_count": 26,
   "metadata": {},
   "outputs": [
    {
     "name": "stdout",
     "output_type": "stream",
     "text": [
      "[{'column_name': 'active_status', 'column_type': 'int'}, {'column_name': 'age', 'column_type': 'int'}, {'column_name': 'balance', 'column_type': 'float'}, {'column_name': 'credit_card', 'column_type': 'int'}, {'column_name': 'credit_score', 'column_type': 'int'}, {'column_name': 'customer_id', 'column_type': 'int'}, {'column_name': 'exited', 'column_type': 'int'}, {'column_name': 'gender', 'column_type': 'int'}, {'column_name': 'geography', 'column_type': 'str'}, {'column_name': 'num_products', 'column_type': 'int'}, {'column_name': 'salary_est', 'column_type': 'float'}, {'column_name': 'surname', 'column_type': 'str'}, {'column_name': 'tenure', 'column_type': 'int'}]\n"
     ]
    }
   ],
   "source": [
    "print(get_dataframe_info(df=df_master))"
   ]
  },
  {
   "cell_type": "code",
   "execution_count": 27,
   "metadata": {},
   "outputs": [
    {
     "data": {
      "text/plain": [
       "credit_score     False\n",
       "customer_id      False\n",
       "surname          False\n",
       "geography        False\n",
       "gender           False\n",
       "age              False\n",
       "tenure           False\n",
       "balance          False\n",
       "num_products     False\n",
       "credit_card      False\n",
       "active_status    False\n",
       "salary_est       False\n",
       "exited           False\n",
       "dtype: bool"
      ]
     },
     "execution_count": 27,
     "metadata": {},
     "output_type": "execute_result"
    }
   ],
   "source": [
    "df_master.isnull().any()"
   ]
  },
  {
   "cell_type": "code",
   "execution_count": 28,
   "metadata": {
    "collapsed": true
   },
   "outputs": [],
   "source": [
    "df_master.to_csv('{0}DATA8001_Assignment_2018_Data_Cleaned_Qlik_R20001155.csv'.format(folder), index=False)"
   ]
  },
  {
   "cell_type": "code",
   "execution_count": 29,
   "metadata": {
    "collapsed": true
   },
   "outputs": [],
   "source": [
    "#For testing:\n",
    "#df_salary_est = df_master[['salary_est']].copy()\n",
    "#set(df_salary_est['salary_est'])\n",
    "#df_salary_est['Cleaned_salary_est'] = df_salary_est.apply(lambda x: clean_money(x['salary_est']), axis=1)\n",
    "#df_salary_est.head()\n",
    "#print(get_dataframe_info(df=df_salary_est))"
   ]
  },
  {
   "cell_type": "markdown",
   "metadata": {},
   "source": [
    "# Visualise Clean Data\n",
    "Use matplotlib library to visualise your data, what trends, patterns can you elicit? These images can be used in your report.\n",
    "\n",
    "Questions:\n",
    "▪ What country has the highest exit rate of customers? What is this rate compared to other countries?\n",
    "▪ Are male or female customers more likely to exit the bank? Explain your answer with relevant statistics.\n",
    "▪ Is the number of products a customer has significant in terms of them exiting the bank?\n",
    "▪ What is the average exit rate for the following 5 age groups:\n",
    "• < 20yrs, 20 – 29 ,30 – 39, 40 – 59, > 60 yrs\n",
    "▪ Are longer term customers (> 4 years) more or less likely to exit the bank?"
   ]
  },
  {
   "cell_type": "code",
   "execution_count": 30,
   "metadata": {},
   "outputs": [
    {
     "data": {
      "text/plain": [
       "0    9009\n",
       "1     991\n",
       "Name: exited, dtype: int64"
      ]
     },
     "execution_count": 30,
     "metadata": {},
     "output_type": "execute_result"
    }
   ],
   "source": [
    "df_master['exited'].value_counts()"
   ]
  },
  {
   "cell_type": "code",
   "execution_count": 44,
   "metadata": {},
   "outputs": [
    {
     "data": {
      "image/png": "[encoded data removed]",
      "text/plain": [
       "<matplotlib.figure.Figure at 0xb8d1940>"
      ]
     },
     "metadata": {},
     "output_type": "display_data"
    }
   ],
   "source": [
    "geography_table = pd.crosstab(df_master.geography, df_master.exited)\n",
    "geography_table.div(geography_table.sum(1).astype(float), axis=0).plot(kind='bar', stacked=True)\n",
    "plt.title('What country has the highest exit rate of customers?')\n",
    "plt.xlabel('Countries')\n",
    "plt.ylabel('People who have exited')\n",
    "plt.legend(['Not Left', 'Left'],loc=2)\n",
    "plt.savefig('percentage_geography_bar_chart')"
   ]
  },
  {
   "cell_type": "code",
   "execution_count": 45,
   "metadata": {},
   "outputs": [
    {
     "data": {
      "image/png": "[encoded data removed]",
      "text/plain": [
       "<matplotlib.figure.Figure at 0xbabe160>"
      ]
     },
     "metadata": {},
     "output_type": "display_data"
    }
   ],
   "source": [
    "pd.crosstab(df_master.geography, df_master.exited).plot(kind='bar')\n",
    "plt.title('What country has the highest exit rate of customers?')\n",
    "plt.xlabel('Countries')\n",
    "plt.ylabel('People who have exited')\n",
    "plt.legend(['Not Left', 'Left'],loc=2)\n",
    "plt.savefig('geography_bar_chart')"
   ]
  },
  {
   "cell_type": "code",
   "execution_count": 46,
   "metadata": {},
   "outputs": [
    {
     "data": {
      "image/png": "[encoded data removed]",
      "text/plain": [
       "<matplotlib.figure.Figure at 0xb90cc50>"
      ]
     },
     "metadata": {},
     "output_type": "display_data"
    }
   ],
   "source": [
    "gender_table = pd.crosstab(df_master.gender, df_master.exited)\n",
    "gender_table.div(gender_table.sum(1).astype(float), axis=0).plot(kind='bar', stacked=True)\n",
    "plt.title('Are male or female customers more likely to exit the bank?')\n",
    "plt.xlabel('Gender')\n",
    "genderLabels = ['Male', 'Female']\n",
    "plt.xticks([0,1],genderLabels)\n",
    "plt.ylabel('People who have exited')\n",
    "plt.legend(['Not Left', 'Left'],loc=2)\n",
    "plt.savefig('percentage_gender_bar_chart')"
   ]
  },
  {
   "cell_type": "code",
   "execution_count": 47,
   "metadata": {},
   "outputs": [
    {
     "data": {
      "image/png": "[encoded data removed]",
      "text/plain": [
       "<matplotlib.figure.Figure at 0xba9ff98>"
      ]
     },
     "metadata": {},
     "output_type": "display_data"
    }
   ],
   "source": [
    "pd.crosstab(df_master.gender, df_master.exited).plot(kind='bar')\n",
    "plt.title('Are male or female customers more likely to exit the bank?')\n",
    "plt.xlabel('Gender')\n",
    "genderLabels = ['Male', 'Female']\n",
    "plt.xticks([0,1],genderLabels)\n",
    "plt.ylabel('People who have exited')\n",
    "plt.legend(['Not Left', 'Left'],loc=2)\n",
    "plt.savefig('gender_bar_chart')"
   ]
  },
  {
   "cell_type": "code",
   "execution_count": 48,
   "metadata": {},
   "outputs": [
    {
     "data": {
      "image/png": "[encoded data removed]",
      "text/plain": [
       "<matplotlib.figure.Figure at 0xb8cff98>"
      ]
     },
     "metadata": {},
     "output_type": "display_data"
    }
   ],
   "source": [
    "products_table = pd.crosstab(df_master.num_products, df_master.exited)\n",
    "products_table.div(products_table.sum(1).astype(float), axis=0).plot(kind='bar', stacked=True)\n",
    "plt.title(' Is the number of products a customer has significant in terms of them exiting the bank?')\n",
    "plt.xlabel('Number of Products')\n",
    "plt.ylabel('People who have exited')\n",
    "plt.legend(['Not Left', 'Left'],loc=2)\n",
    "plt.savefig('percentage_products_bar_chart')"
   ]
  },
  {
   "cell_type": "code",
   "execution_count": 49,
   "metadata": {},
   "outputs": [
    {
     "data": {
      "image/png": "[encoded data removed]",
      "text/plain": [
       "<matplotlib.figure.Figure at 0x8a00860>"
      ]
     },
     "metadata": {},
     "output_type": "display_data"
    }
   ],
   "source": [
    "pd.crosstab(df_master.num_products, df_master.exited).plot(kind='bar')\n",
    "plt.title(' Is the number of products a customer has significant in terms of them exiting the bank?')\n",
    "plt.xlabel('Number of Products')\n",
    "plt.ylabel('People who have exited')\n",
    "plt.legend(['Not Left', 'Left'],loc=2)\n",
    "plt.savefig('products_bar_chart')"
   ]
  },
  {
   "cell_type": "code",
   "execution_count": 60,
   "metadata": {},
   "outputs": [
    {
     "data": {
      "image/png": "[encoded data removed]",
      "text/plain": [
       "<matplotlib.figure.Figure at 0xb895e48>"
      ]
     },
     "metadata": {},
     "output_type": "display_data"
    }
   ],
   "source": [
    "#What is the average exit rate for the following 5 age groups: • < 20yrs, 20 – 29 ,30 – 39, 40 – 59, > 60 yrs\n",
    "\n",
    "df_master['ageGroups'] = pd.cut(df_master['age'], bins=[-1, 20, 30, 40, 60, 100], labels=['< 20yrs','20-29','30-39','40-59','> 60yrs'], right=False)\n",
    "pd.crosstab(df_master.ageGroups, df_master.exited).plot(kind='bar')\n",
    "plt.title('What is the average exit rate for the following 5 age groups: • < 20yrs, 20 – 29 ,30 – 39, 40 – 59, > 60 yrs')\n",
    "plt.xlabel('Age Groups')\n",
    "plt.ylabel('People who have exited')\n",
    "plt.legend(['Not Left', 'Left'],loc=2)\n",
    "plt.savefig('percentage_age_bar_chart')"
   ]
  },
  {
   "cell_type": "code",
   "execution_count": 64,
   "metadata": {},
   "outputs": [
    {
     "data": {
      "image/png": "[encoded data removed]",
      "text/plain": [
       "<matplotlib.figure.Figure at 0xbaec7f0>"
      ]
     },
     "metadata": {},
     "output_type": "display_data"
    }
   ],
   "source": [
    "ages_table = pd.crosstab(df_master.ageGroups, df_master.exited)\n",
    "ages_table.div(ages_table.sum(1).astype(float), axis=0).plot(kind='bar', stacked=True)\n",
    "plt.title(' Is the number of products a customer has significant in terms of them exiting the bank?')\n",
    "plt.xlabel('Age Groups')\n",
    "plt.ylabel('People who have exited')\n",
    "plt.legend(['Not Left', 'Left'],loc='lower right')\n",
    "plt.savefig('age_bar_chart')"
   ]
  },
  {
   "cell_type": "code",
   "execution_count": 66,
   "metadata": {},
   "outputs": [
    {
     "data": {
      "image/png": "[encoded data removed]",
      "text/plain": [
       "<matplotlib.figure.Figure at 0xbac4630>"
      ]
     },
     "metadata": {},
     "output_type": "display_data"
    }
   ],
   "source": [
    "#Are longer term customers (> 4 years) more or less likely to exit the bank?\n",
    "df_master['longerTermCustomers'] = np.where(df_master['tenure']>4, 'less than 4 yrs', 'more than 4 yrs')\n",
    "tenure_table = pd.crosstab(df_master.longerTermCustomers, df_master.exited)\n",
    "tenure_table.div(tenure_table.sum(1).astype(float), axis=0).plot(kind='bar', stacked=True)\n",
    "plt.title('Are longer term customers (> 4 years) more or less likely to exit the bank?')\n",
    "plt.xlabel('Tenure')\n",
    "plt.ylabel('People who have exited')\n",
    "plt.legend(['Not Left', 'Left'],loc='lower right')\n",
    "plt.savefig('percentage_tenure_bar_chart')"
   ]
  },
  {
   "cell_type": "code",
   "execution_count": 67,
   "metadata": {},
   "outputs": [
    {
     "data": {
      "image/png": "[encoded data removed]",
      "text/plain": [
       "<matplotlib.figure.Figure at 0xbaa36d8>"
      ]
     },
     "metadata": {},
     "output_type": "display_data"
    }
   ],
   "source": [
    "pd.crosstab(df_master.longerTermCustomers, df_master.exited).plot(kind='bar')\n",
    "plt.title('Are longer term customers (> 4 years) more or less likely to exit the bank?')\n",
    "plt.xlabel('Tenure')\n",
    "plt.ylabel('People who have exited')\n",
    "plt.legend(['Not Left', 'Left'],loc=2)\n",
    "plt.savefig('tenure_bar_chart')"
   ]
  },
  {
   "cell_type": "markdown",
   "metadata": {},
   "source": [
    "# Model the Data\n",
    "1. Convert any categorical data columns to binary columns using the pandas dummy variables method (or any other method you choose)\n",
    "2. Remove any columns that cannot be modelled!\n",
    "3. Create model with training & test sets on all features. **Note: ** your test set should contain 30% of the total dataset (training = 70%)\n",
    "4. Review the model, does it make sense?\n",
    "5. Identify the single best feature to predict customre churn using your model\n",
    "6. Identify the list of best feature(s) to predict customre churn using your model"
   ]
  },
  {
   "cell_type": "code",
   "execution_count": null,
   "metadata": {
    "collapsed": true
   },
   "outputs": [],
   "source": []
  }
 ],
 "metadata": {
  "kernelspec": {
   "display_name": "Python 3",
   "language": "python",
   "name": "python3"
  },
  "language_info": {
   "codemirror_mode": {
    "name": "ipython",
    "version": 3
   },
   "file_extension": ".py",
   "mimetype": "text/x-python",
   "name": "python",
   "nbconvert_exporter": "python",
   "pygments_lexer": "ipython3",
   "version": "3.6.1"
  }
 },
 "nbformat": 4,
 "nbformat_minor": 2
}
